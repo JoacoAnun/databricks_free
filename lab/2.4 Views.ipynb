{
 "cells": [
  {
   "cell_type": "code",
   "execution_count": 0,
   "metadata": {
    "application/vnd.databricks.v1+cell": {
     "cellMetadata": {
      "byteLimit": 2048000,
      "rowLimit": 10000
     },
     "inputWidgets": {},
     "nuid": "e3da77b8-cefc-482d-9cb1-1f380a8568a7",
     "showTitle": false,
     "tableResultSettingsMap": {},
     "title": ""
    }
   },
   "outputs": [],
   "source": [
    "-- Set schema and create smartphones table if not exists\n",
    "USE SCHEMA strata_lab;\n",
    "CREATE TABLE IF NOT EXISTS smartphones\n",
    "(\n",
    "    id INT,\n",
    "    name STRING,\n",
    "    brand STRING,\n",
    "    year INT\n",
    ");\n",
    "\n",
    "-- Insert sample data into smartphones table\n",
    "INSERT INTO smartphones\n",
    "VALUES\n",
    "    (1, 'iPhone 14', 'Apple', 2022),\n",
    "    (2, 'iPhone 13', 'Apple', 2021),\n",
    "    (3, 'iPhone 6', 'Apple', 2014),\n",
    "    (4, 'iPad Air', 'Apple', 2013),\n",
    "    (5, 'Galaxy S22', 'Samsung', 2022),\n",
    "    (6, 'Galaxy Z Fold', 'Samsung', 2022),\n",
    "    (7, 'Galaxy S9', 'Samsung', 2016),\n",
    "    (8, '12 Pro', 'Xiaomi', 2022),\n",
    "    (9, 'Redmi 11T Pro', 'Xiaomi', 2022),\n",
    "    (10, 'Redmi Note 11', 'Xiaomi', 2021);"
   ]
  },
  {
   "cell_type": "code",
   "execution_count": 0,
   "metadata": {
    "application/vnd.databricks.v1+cell": {
     "cellMetadata": {
      "byteLimit": 2048000,
      "rowLimit": 10000
     },
     "inputWidgets": {},
     "nuid": "7faae123-c0e7-4014-a467-c9c10a3a4cf0",
     "showTitle": false,
     "tableResultSettingsMap": {},
     "title": ""
    }
   },
   "outputs": [],
   "source": [
    "-- List all tables in the current schema\n",
    "SHOW TABLES"
   ]
  },
  {
   "cell_type": "code",
   "execution_count": 0,
   "metadata": {
    "application/vnd.databricks.v1+cell": {
     "cellMetadata": {
      "byteLimit": 2048000,
      "rowLimit": 10000
     },
     "inputWidgets": {},
     "nuid": "0e497a7d-a714-405e-bd4c-df3abd89e9aa",
     "showTitle": false,
     "tableResultSettingsMap": {},
     "title": ""
    }
   },
   "outputs": [],
   "source": [
    "-- Create or replace a view for Apple brand phones\n",
    "CREATE OR REPLACE VIEW apple_phones AS\n",
    "SELECT * FROM smartphones WHERE brand = 'Apple';"
   ]
  },
  {
   "cell_type": "code",
   "execution_count": 0,
   "metadata": {
    "application/vnd.databricks.v1+cell": {
     "cellMetadata": {
      "byteLimit": 2048000,
      "rowLimit": 10000
     },
     "inputWidgets": {},
     "nuid": "2743a176-4a3b-4beb-b27e-5f9ed989da6e",
     "showTitle": false,
     "tableResultSettingsMap": {},
     "title": ""
    }
   },
   "outputs": [],
   "source": [
    "-- Display all records from the apple_phones view\n",
    "SELECT * FROM apple_phones;"
   ]
  },
  {
   "cell_type": "code",
   "execution_count": 0,
   "metadata": {
    "application/vnd.databricks.v1+cell": {
     "cellMetadata": {
      "byteLimit": 2048000,
      "rowLimit": 10000
     },
     "inputWidgets": {},
     "nuid": "280c59a0-9726-4797-b5f3-04d0623288cc",
     "showTitle": false,
     "tableResultSettingsMap": {},
     "title": ""
    }
   },
   "outputs": [],
   "source": [
    "-- List all tables in the current schema\n",
    "SHOW TABLES"
   ]
  },
  {
   "cell_type": "code",
   "execution_count": 0,
   "metadata": {
    "application/vnd.databricks.v1+cell": {
     "cellMetadata": {
      "byteLimit": 2048000,
      "rowLimit": 10000
     },
     "inputWidgets": {},
     "nuid": "ad96751e-2da6-4189-a0db-a2b5c8ffbea9",
     "showTitle": false,
     "tableResultSettingsMap": {},
     "title": ""
    }
   },
   "outputs": [],
   "source": [
    "-- Create a temporary view for distinct phone brands\n",
    "CREATE OR REPLACE TEMP VIEW temp_view_phones_brands AS\n",
    "SELECT DISTINCT brand FROM smartphones;\n",
    "\n",
    "-- Display all brands from the temp view\n",
    "SELECT * FROM temp_view_phones_brands;"
   ]
  },
  {
   "cell_type": "code",
   "execution_count": 0,
   "metadata": {
    "application/vnd.databricks.v1+cell": {
     "cellMetadata": {
      "byteLimit": 2048000,
      "rowLimit": 10000
     },
     "inputWidgets": {},
     "nuid": "10fcbb6c-1e68-4131-86b4-5d0277af4b08",
     "showTitle": false,
     "tableResultSettingsMap": {},
     "title": ""
    }
   },
   "outputs": [],
   "source": [
    "-- Attempt to list tables (may error if context is wrong)\n",
    "SHOW TABLES"
   ]
  },
  {
   "cell_type": "code",
   "execution_count": 0,
   "metadata": {
    "application/vnd.databricks.v1+cell": {
     "cellMetadata": {
      "byteLimit": 2048000,
      "rowLimit": 10000
     },
     "inputWidgets": {},
     "nuid": "d6eedaf9-cf89-4772-b95f-fb67ce6112c9",
     "showTitle": false,
     "tableResultSettingsMap": {},
     "title": ""
    }
   },
   "outputs": [],
   "source": [
    "-- Attempt to create a global temp view (not supported in serverless compute)\n",
    "CREATE GLOBAL TEMP VIEW global_temp_view_latest_phones AS\n",
    "SELECT * FROM smartphones WHERE year > 2020;\n",
    "-- Attempt to query the global temp view\n",
    "SELECT * FROM global_temp.global_temp_view_latest_phones"
   ]
  },
  {
   "cell_type": "code",
   "execution_count": 0,
   "metadata": {
    "application/vnd.databricks.v1+cell": {
     "cellMetadata": {
      "byteLimit": 2048000,
      "rowLimit": 10000
     },
     "inputWidgets": {},
     "nuid": "4329b513-fc0a-4920-8f45-496173be5966",
     "showTitle": false,
     "tableResultSettingsMap": {
      "0": {
       "dataGridStateBlob": "{\"version\":1,\"tableState\":{\"columnPinning\":{\"left\":[\"#row_number#\"],\"right\":[]},\"columnSizing\":{\"tableName\":273},\"columnVisibility\":{}},\"settings\":{\"columns\":{}},\"syncTimestamp\":1757282053215}",
       "filterBlob": null,
       "queryPlanFiltersBlob": null,
       "tableResultIndex": 0
      }
     },
     "title": ""
    }
   },
   "outputs": [],
   "source": [
    "-- List tables in global_temp schema \n",
    "SHOW TABLES IN global_temp;"
   ]
  }
 ],
 "metadata": {
  "application/vnd.databricks.v1+notebook": {
   "computePreferences": {
    "hardware": {
     "accelerator": null,
     "gpuPoolId": null,
     "memory": null
    }
   },
   "dashboards": [],
   "environmentMetadata": {
    "base_environment": "",
    "environment_version": "3"
   },
   "inputWidgetPreferences": null,
   "language": "sql",
   "notebookMetadata": {
    "pythonIndentUnit": 4
   },
   "notebookName": "2.4 Views",
   "widgets": {}
  },
  "language_info": {
   "name": "sql"
  }
 },
 "nbformat": 4,
 "nbformat_minor": 0
}
