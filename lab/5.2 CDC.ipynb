{
 "cells": [
  {
   "cell_type": "markdown",
   "metadata": {
    "application/vnd.databricks.v1+cell": {
     "cellMetadata": {
      "byteLimit": 2048000,
      "rowLimit": 10000
     },
     "inputWidgets": {},
     "nuid": "92d5df11-10f1-4e33-9140-c5d8879e2228",
     "showTitle": false,
     "tableResultSettingsMap": {},
     "title": ""
    }
   },
   "source": [
    "# Bronze Layer Tables"
   ]
  },
  {
   "cell_type": "code",
   "execution_count": 0,
   "metadata": {
    "application/vnd.databricks.v1+cell": {
     "cellMetadata": {
      "byteLimit": 2048000,
      "rowLimit": 10000
     },
     "inputWidgets": {},
     "nuid": "f59cef52-63ea-4eb1-91e2-b25c0eee7520",
     "showTitle": false,
     "tableResultSettingsMap": {},
     "title": ""
    }
   },
   "outputs": [],
   "source": [
    "-- USE SCHEMA strata_lab;"
   ]
  },
  {
   "cell_type": "code",
   "execution_count": 0,
   "metadata": {
    "application/vnd.databricks.v1+cell": {
     "cellMetadata": {
      "byteLimit": 2048000,
      "rowLimit": 10000
     },
     "inputWidgets": {},
     "nuid": "1de42b30-b2d7-4ab2-a88b-3bb84252d41d",
     "showTitle": false,
     "tableResultSettingsMap": {},
     "title": ""
    }
   },
   "outputs": [],
   "source": [
    "CREATE OR REFRESH STREAMING LIVE TABLE books_bronze\n",
    "COMMENT \"Raw books data, CDC feed\"\n",
    "AS SELECT * FROM cloud_files(\"/Volumes/workspace/strata_lab/entrenamiento/books-cdc/\", \"json\",\n",
    "map(\"cloudFiles.schemaLocation\", \"/Volumes/workspace/strata_lab/entrenamiento/books-cdc/schema\")\n",
    ")"
   ]
  },
  {
   "cell_type": "markdown",
   "metadata": {
    "application/vnd.databricks.v1+cell": {
     "cellMetadata": {
      "byteLimit": 2048000,
      "rowLimit": 10000
     },
     "inputWidgets": {},
     "nuid": "398684c1-d93a-43a4-a540-ba047d9d46b4",
     "showTitle": false,
     "tableResultSettingsMap": {},
     "title": ""
    }
   },
   "source": [
    "# Silver Layer Tables"
   ]
  },
  {
   "cell_type": "code",
   "execution_count": 0,
   "metadata": {
    "application/vnd.databricks.v1+cell": {
     "cellMetadata": {
      "byteLimit": 2048000,
      "rowLimit": 10000
     },
     "inputWidgets": {},
     "nuid": "bda115e5-92ad-4539-8fc8-050e72b30a78",
     "showTitle": false,
     "tableResultSettingsMap": {},
     "title": ""
    }
   },
   "outputs": [],
   "source": [
    "CREATE OR REFRESH STREAMING LIVE TABLE books_silver;\n",
    "\n",
    "APPLY CHANGES INTO LIVE.books_silver\n",
    "FROM STREAM(LIVE.books_bronze)\n",
    "KEYS (book_id)\n",
    "APPLY AS DELETE WHEN row_status = \"DELETE\"\n",
    "SEQUENCE BY row_time\n",
    "COLUMNS * EXCEPT (row_status, row_time);"
   ]
  },
  {
   "cell_type": "markdown",
   "metadata": {
    "application/vnd.databricks.v1+cell": {
     "cellMetadata": {
      "byteLimit": 2048000,
      "rowLimit": 10000
     },
     "inputWidgets": {},
     "nuid": "c15136bd-6bbb-4034-a79a-8e66237f08b0",
     "showTitle": false,
     "tableResultSettingsMap": {},
     "title": ""
    }
   },
   "source": [
    "# Gold Layer Table"
   ]
  },
  {
   "cell_type": "code",
   "execution_count": 0,
   "metadata": {
    "application/vnd.databricks.v1+cell": {
     "cellMetadata": {
      "byteLimit": 2048000,
      "rowLimit": 10000
     },
     "inputWidgets": {},
     "nuid": "69421432-46e0-47d9-ad70-bb4e0f6ce07b",
     "showTitle": false,
     "tableResultSettingsMap": {},
     "title": ""
    }
   },
   "outputs": [],
   "source": [
    "CREATE LIVE TABLE author_counts_state\n",
    "COMMENT \"Number of books per author\" AS\n",
    "SELECT\n",
    "  author,\n",
    "  COUNT(*) AS book_count,\n",
    "  current_timestamp() AS update_time\n",
    "FROM LIVE.books_silver\n",
    "GROUP BY author"
   ]
  },
  {
   "cell_type": "markdown",
   "metadata": {
    "application/vnd.databricks.v1+cell": {
     "cellMetadata": {
      "byteLimit": 2048000,
      "rowLimit": 10000
     },
     "inputWidgets": {},
     "nuid": "1d4c8c0c-11a1-4140-b7a1-945b6fb7535f",
     "showTitle": false,
     "tableResultSettingsMap": {},
     "title": ""
    }
   },
   "source": [
    "# DLT Views"
   ]
  },
  {
   "cell_type": "code",
   "execution_count": 0,
   "metadata": {
    "application/vnd.databricks.v1+cell": {
     "cellMetadata": {
      "byteLimit": 2048000,
      "rowLimit": 10000
     },
     "inputWidgets": {},
     "nuid": "0c63f2c0-0f6f-4d73-8388-891321920ed2",
     "showTitle": false,
     "tableResultSettingsMap": {},
     "title": ""
    }
   },
   "outputs": [],
   "source": [
    "-- View is created as normal view instead of live view\n",
    "-- Cant create live view in free edition\n",
    "CREATE OR REPLACE VIEW books_sales AS \n",
    "SELECT\n",
    "  b.title,\n",
    "  o.quantity\n",
    "  FROM (\n",
    "    SELECT\n",
    "      *,\n",
    "      explode(books.book_id) as book\n",
    "      FROM orders_cleaned\n",
    "  ) AS o\n",
    "  INNER JOIN books_silver AS b\n",
    "  ON o.book = b.book_id"
   ]
  },
  {
   "cell_type": "code",
   "execution_count": 0,
   "metadata": {
    "application/vnd.databricks.v1+cell": {
     "cellMetadata": {},
     "inputWidgets": {},
     "nuid": "d94b1dff-1fb0-4efa-bc97-7befc61ff359",
     "showTitle": false,
     "tableResultSettingsMap": {},
     "title": ""
    }
   },
   "outputs": [],
   "source": []
  }
 ],
 "metadata": {
  "application/vnd.databricks.v1+notebook": {
   "computePreferences": null,
   "dashboards": [],
   "environmentMetadata": {
    "base_environment": "",
    "environment_version": "3"
   },
   "inputWidgetPreferences": null,
   "language": "sql",
   "notebookMetadata": {
    "pythonIndentUnit": 4
   },
   "notebookName": "5.2 CDC",
   "widgets": {}
  },
  "language_info": {
   "name": "sql"
  }
 },
 "nbformat": 4,
 "nbformat_minor": 0
}
