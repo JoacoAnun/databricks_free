{
 "cells": [
  {
   "cell_type": "code",
   "execution_count": 0,
   "metadata": {
    "application/vnd.databricks.v1+cell": {
     "cellMetadata": {
      "byteLimit": 2048000,
      "rowLimit": 10000
     },
     "inputWidgets": {},
     "nuid": "f1f87701-99e2-4f3a-b93f-f4858612db74",
     "showTitle": false,
     "tableResultSettingsMap": {},
     "title": ""
    }
   },
   "outputs": [],
   "source": [
    "-- Set the active schema to strata_lab\n",
    "USE SCHEMA strata_lab;\n",
    "\n",
    "-- Remove managed_default table if it exists\n",
    "DROP TABLE IF EXISTS managed_default;\n",
    "\n",
    "-- Create a new managed table with specified columns\n",
    "CREATE TABLE managed_default\n",
    "(width INT, length INT, height INT);\n",
    "\n",
    "-- Insert a single row into managed_default\n",
    "INSERT INTO managed_default\n",
    "VALUES (3 INT, 2 INT, 1 INT);"
   ]
  },
  {
   "cell_type": "code",
   "execution_count": 0,
   "metadata": {
    "application/vnd.databricks.v1+cell": {
     "cellMetadata": {
      "byteLimit": 2048000,
      "rowLimit": 10000
     },
     "inputWidgets": {},
     "nuid": "dd0b6e39-edd0-4268-b8a4-5d0052d332a3",
     "showTitle": false,
     "tableResultSettingsMap": {},
     "title": ""
    }
   },
   "outputs": [],
   "source": [
    "-- Show detailed metadata for managed_default table\n",
    "DESCRIBE EXTENDED managed_default;"
   ]
  },
  {
   "cell_type": "code",
   "execution_count": 0,
   "metadata": {
    "application/vnd.databricks.v1+cell": {
     "cellMetadata": {
      "byteLimit": 2048000,
      "rowLimit": 10000
     },
     "inputWidgets": {},
     "nuid": "fc7a0505-4fb7-480f-bbb5-356a019be1bf",
     "showTitle": false,
     "tableResultSettingsMap": {},
     "title": ""
    }
   },
   "outputs": [],
   "source": [
    "-- Attempt to create an external table (not supported in free edition)\n",
    "CREATE TABLE externa_default\n",
    "(width INT, length INT, height INT)\n",
    "LOCATION '/Volumes/workspace/strata_lab/entrenamiento/book_store/';\n",
    "\n",
    "-- Try to insert a row into the external table\n",
    "INSERT INTO externa_default\n",
    "VALUES (3 INT, 2 INT, 1 INT)\n",
    "\n",
    "/*\n",
    "ou are getting the \"Missing cloud file system scheme\" error because the LOCATION path in your CREATE TABLE statement is missing the cloud storage scheme (e.g., s3:// for AWS). In Databricks, the /Volumes path is only valid if you are using Unity Catalog Volumes, and you must have the right permissions and be on a paid edition. In the free edition, you cannot create external tables with LOCATION.\n",
    "*/"
   ]
  },
  {
   "cell_type": "code",
   "execution_count": 0,
   "metadata": {
    "application/vnd.databricks.v1+cell": {
     "cellMetadata": {
      "byteLimit": 2048000,
      "rowLimit": 10000
     },
     "inputWidgets": {},
     "nuid": "63a48c23-a4a1-4fd3-ab74-810b110cddf9",
     "showTitle": false,
     "tableResultSettingsMap": {},
     "title": ""
    }
   },
   "outputs": [],
   "source": [
    "-- Create a new schema named new_strata_lab\n",
    "CREATE SCHEMA new_strata_lab;"
   ]
  },
  {
   "cell_type": "code",
   "execution_count": 0,
   "metadata": {
    "application/vnd.databricks.v1+cell": {
     "cellMetadata": {
      "byteLimit": 2048000,
      "rowLimit": 10000
     },
     "inputWidgets": {},
     "nuid": "d3ca3773-ef4b-4372-9cea-77233000a2ac",
     "showTitle": false,
     "tableResultSettingsMap": {},
     "title": ""
    }
   },
   "outputs": [],
   "source": [
    "-- Show extended metadata for new_strata_lab schema\n",
    "DESCRIBE DATABASE EXTENDED new_strata_lab;"
   ]
  },
  {
   "cell_type": "code",
   "execution_count": 0,
   "metadata": {
    "application/vnd.databricks.v1+cell": {
     "cellMetadata": {
      "byteLimit": 2048000,
      "rowLimit": 10000
     },
     "inputWidgets": {},
     "nuid": "4734aa5b-36b4-4380-83db-f396efb90508",
     "showTitle": false,
     "tableResultSettingsMap": {},
     "title": ""
    }
   },
   "outputs": [],
   "source": [
    "-- Drop the new_strata_lab schema\n",
    "DROP SCHEMA new_strata_lab;"
   ]
  }
 ],
 "metadata": {
  "application/vnd.databricks.v1+notebook": {
   "computePreferences": null,
   "dashboards": [],
   "environmentMetadata": {
    "base_environment": "",
    "environment_version": "3"
   },
   "inputWidgetPreferences": null,
   "language": "sql",
   "notebookMetadata": {
    "pythonIndentUnit": 4
   },
   "notebookName": "2.3 Databases and Tables on Databricks",
   "widgets": {}
  },
  "language_info": {
   "name": "sql"
  }
 },
 "nbformat": 4,
 "nbformat_minor": 0
}
