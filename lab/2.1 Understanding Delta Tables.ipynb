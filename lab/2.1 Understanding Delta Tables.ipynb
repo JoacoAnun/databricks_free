{
 "cells": [
  {
   "cell_type": "code",
   "execution_count": 0,
   "metadata": {
    "application/vnd.databricks.v1+cell": {
     "cellMetadata": {
      "byteLimit": 2048000,
      "rowLimit": 10000
     },
     "inputWidgets": {},
     "nuid": "f8bbf1c9-6323-4a59-9e4c-3f1ebd9681f1",
     "showTitle": false,
     "tableResultSettingsMap": {},
     "title": ""
    }
   },
   "outputs": [],
   "source": [
    "-- Set the active schema to strata_lab\n",
    "USE SCHEMA strata_lab;"
   ]
  },
  {
   "cell_type": "code",
   "execution_count": 0,
   "metadata": {
    "application/vnd.databricks.v1+cell": {
     "cellMetadata": {
      "byteLimit": 2048000,
      "rowLimit": 10000
     },
     "inputWidgets": {},
     "nuid": "3ea8f524-0e8c-442e-9814-9c7e4afd9f7b",
     "showTitle": false,
     "tableResultSettingsMap": {},
     "title": ""
    }
   },
   "outputs": [],
   "source": [
    "-- Drop the employees table if it exists, then create a new one\n",
    "DROP TABLE IF EXISTS employees;\n",
    "\n",
    "CREATE TABLE IF NOT EXISTS employees\n",
    "(\n",
    "  id INT,\n",
    "  name STRING,\n",
    "  salary DOUBLE\n",
    ");"
   ]
  },
  {
   "cell_type": "code",
   "execution_count": 0,
   "metadata": {
    "application/vnd.databricks.v1+cell": {
     "cellMetadata": {
      "byteLimit": 2048000,
      "rowLimit": 10000
     },
     "inputWidgets": {},
     "nuid": "a5bd03f0-fa36-4bee-86e8-d61fa96e2220",
     "showTitle": false,
     "tableResultSettingsMap": {},
     "title": ""
    }
   },
   "outputs": [],
   "source": [
    "-- Insert sample employee records into the employees table\n",
    "INSERT INTO employees\n",
    "VALUES\n",
    "(1, \"Adam\", 3500.0),\n",
    "(2, \"Sarah\", 4020.5);\n",
    "\n",
    "INSERT INTO employees\n",
    "VALUES\n",
    "(3, \"John\", 2999.3),\n",
    "(4, \"Thomas\", 4000.3);\n",
    "\n",
    "INSERT INTO employees\n",
    "VALUES\n",
    "(5, \"Anna\", 2500.0);\n",
    "\n",
    "INSERT INTO employees\n",
    "VALUES\n",
    "(6, \"Kim\", 6200.3);"
   ]
  },
  {
   "cell_type": "code",
   "execution_count": 0,
   "metadata": {
    "application/vnd.databricks.v1+cell": {
     "cellMetadata": {
      "byteLimit": 2048000,
      "rowLimit": 10000
     },
     "inputWidgets": {},
     "nuid": "4a7c4180-1e6c-437b-a005-dcff416324bc",
     "showTitle": false,
     "tableResultSettingsMap": {},
     "title": ""
    }
   },
   "outputs": [],
   "source": [
    "-- Display all records from the employees table\n",
    "SELECT * FROM employees;"
   ]
  },
  {
   "cell_type": "code",
   "execution_count": 0,
   "metadata": {
    "application/vnd.databricks.v1+cell": {
     "cellMetadata": {
      "byteLimit": 2048000,
      "rowLimit": 10000
     },
     "inputWidgets": {},
     "nuid": "aac690ef-6a15-4b6f-8145-428c67785499",
     "showTitle": false,
     "tableResultSettingsMap": {},
     "title": ""
    }
   },
   "outputs": [],
   "source": [
    "-- Show detailed metadata for the employees table\n",
    "DESCRIBE DETAIL employees;\n",
    "-- No tenemos acceso a la ubicacion de estos archivos en la free edition"
   ]
  },
  {
   "cell_type": "code",
   "execution_count": 0,
   "metadata": {
    "application/vnd.databricks.v1+cell": {
     "cellMetadata": {
      "byteLimit": 2048000,
      "rowLimit": 10000
     },
     "inputWidgets": {},
     "nuid": "90385445-8be0-4f0e-bbdb-5bd0cf54c357",
     "showTitle": false,
     "tableResultSettingsMap": {},
     "title": ""
    }
   },
   "outputs": [],
   "source": [
    "-- Increase salary by 100 for employees whose name starts with 'A'\n",
    "UPDATE employees\n",
    "SET salary = salary + 100\n",
    "where name LIKE 'A%';"
   ]
  },
  {
   "cell_type": "code",
   "execution_count": 0,
   "metadata": {
    "application/vnd.databricks.v1+cell": {
     "cellMetadata": {
      "byteLimit": 2048000,
      "rowLimit": 10000
     },
     "inputWidgets": {},
     "nuid": "46d8a1f9-0377-4dc6-9877-6801d70e7faf",
     "showTitle": false,
     "tableResultSettingsMap": {},
     "title": ""
    }
   },
   "outputs": [],
   "source": [
    "-- Display all records from the employees table after salary update\n",
    "SELECT * FROM employees;"
   ]
  },
  {
   "cell_type": "code",
   "execution_count": 0,
   "metadata": {
    "application/vnd.databricks.v1+cell": {
     "cellMetadata": {
      "byteLimit": 2048000,
      "rowLimit": 10000
     },
     "inputWidgets": {},
     "nuid": "695bc394-5ddd-4c97-8f13-4e5cf8c98760",
     "showTitle": false,
     "tableResultSettingsMap": {},
     "title": ""
    }
   },
   "outputs": [],
   "source": [
    "-- Show the change history for the employees table\n",
    "DESCRIBE HISTORY employees;"
   ]
  },
  {
   "cell_type": "code",
   "execution_count": 0,
   "metadata": {
    "application/vnd.databricks.v1+cell": {
     "cellMetadata": {
      "byteLimit": 2048000,
      "rowLimit": 10000
     },
     "inputWidgets": {},
     "nuid": "db490493-f02a-4f14-8b66-fce160d62cd9",
     "showTitle": false,
     "tableResultSettingsMap": {},
     "title": ""
    }
   },
   "outputs": [],
   "source": [
    "-- (Empty cell, no code)"
   ]
  }
 ],
 "metadata": {
  "application/vnd.databricks.v1+notebook": {
   "computePreferences": null,
   "dashboards": [],
   "environmentMetadata": {
    "base_environment": "",
    "environment_version": "3"
   },
   "inputWidgetPreferences": null,
   "language": "sql",
   "notebookMetadata": {
    "pythonIndentUnit": 4
   },
   "notebookName": "2.1 Understanding Delta Tables",
   "widgets": {}
  },
  "language_info": {
   "name": "sql"
  }
 },
 "nbformat": 4,
 "nbformat_minor": 0
}
