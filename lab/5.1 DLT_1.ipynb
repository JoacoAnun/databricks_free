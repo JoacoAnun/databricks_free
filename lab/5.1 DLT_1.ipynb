{
 "cells": [
  {
   "cell_type": "markdown",
   "metadata": {
    "application/vnd.databricks.v1+cell": {
     "cellMetadata": {},
     "inputWidgets": {},
     "nuid": "ceadb563-179a-4a86-9e76-e2a063dc71ed",
     "showTitle": false,
     "tableResultSettingsMap": {},
     "title": ""
    }
   },
   "source": [
    "# Bronze Layer Tables\n",
    "## orders_raw\n",
    "\n",
    "If you have cleared the workspace. run the Setup command and then comment the cell for proper function"
   ]
  },
  {
   "cell_type": "code",
   "execution_count": 0,
   "metadata": {
    "application/vnd.databricks.v1+cell": {
     "cellMetadata": {
      "byteLimit": 2048000,
      "implicitDf": true,
      "rowLimit": 10000
     },
     "inputWidgets": {},
     "nuid": "7f97c2ce-e90b-4a28-b864-1c9c7dbe4d21",
     "showTitle": false,
     "tableResultSettingsMap": {},
     "title": ""
    }
   },
   "outputs": [],
   "source": [
    "-- %run ./00_Setup"
   ]
  },
  {
   "cell_type": "code",
   "execution_count": 0,
   "metadata": {
    "application/vnd.databricks.v1+cell": {
     "cellMetadata": {},
     "inputWidgets": {},
     "nuid": "867d7936-4545-494a-9912-98d3c8611144",
     "showTitle": false,
     "tableResultSettingsMap": {},
     "title": ""
    }
   },
   "outputs": [],
   "source": [
    "CREATE OR REFRESH STREAMING LIVE TABLE orders_raw\n",
    "COMMENT \"Raw orders data\"\n",
    "AS SELECT \n",
    "  order_id, \n",
    "  order_timestamp, \n",
    "  customer_id, \n",
    "  quantity,\n",
    "  books\n",
    "FROM cloud_files(\n",
    "  \"/Volumes/workspace/strata_lab/entrenamiento/book_store/orders/\", \"parquet\",\n",
    "  map(\"schema\", \"order_id STRING, order_timestamp LONG, customer_id STRING, quantity LONG, books array<struct<book_id:string>>\")\n",
    ")"
   ]
  },
  {
   "cell_type": "code",
   "execution_count": 0,
   "metadata": {
    "application/vnd.databricks.v1+cell": {
     "cellMetadata": {
      "byteLimit": 2048000,
      "implicitDf": true,
      "rowLimit": 10000
     },
     "inputWidgets": {},
     "nuid": "67dd985b-251e-420c-81ff-739de1cbfb83",
     "showTitle": false,
     "tableResultSettingsMap": {},
     "title": ""
    }
   },
   "outputs": [],
   "source": [
    "-- Creates the customers table from raw JSON data\n",
    "CREATE OR REFRESH LIVE TABLE sales_customers\n",
    "COMMENT \"Sales by customer\"\n",
    "AS SELECT * FROM json.`/Volumes/workspace/strata_lab/entrenamiento/book_store/customers/`"
   ]
  },
  {
   "cell_type": "code",
   "execution_count": 0,
   "metadata": {
    "application/vnd.databricks.v1+cell": {
     "cellMetadata": {
      "byteLimit": 2048000,
      "implicitDf": true,
      "rowLimit": 10000
     },
     "inputWidgets": {},
     "nuid": "38a7799d-0a1c-45ef-a675-2aea66bea221",
     "showTitle": false,
     "tableResultSettingsMap": {},
     "title": ""
    }
   },
   "outputs": [],
   "source": [
    "-- Cleans orders data; enforces valid order_id and joins customers\n",
    "CREATE OR REFRESH STREAMING LIVE TABLE orders_cleaned\n",
    "  ( CONSTRAINT valid_order_number EXPECT(order_id IS NOT NULL) ON VIOLATION DROP ROW)\n",
    "  COMMENT \"Cleaned orders data with valid order_id\" AS\n",
    "SELECT\n",
    "  o.order_id,\n",
    "  o.quantity,\n",
    "  o.customer_id,\n",
    "  c.profile:first_name AS f_name,\n",
    "  c.profile:last_name AS l_name,\n",
    "  cast(from_unixtime(order_timestamp, 'yyyy-MM-dd HH:mm:ss') AS timestamp) AS order_timestamp,\n",
    "  c.profile:address:country as country,\n",
    "  o.books as books\n",
    "FROM STREAM(LIVE.orders_raw) o\n",
    "LEFT JOIN LIVE.sales_customers c\n",
    "ON o.customer_id = c.customer_id"
   ]
  },
  {
   "cell_type": "markdown",
   "metadata": {
    "application/vnd.databricks.v1+cell": {
     "cellMetadata": {},
     "inputWidgets": {},
     "nuid": "0e0592a2-110c-4c48-959a-4d2adc91a176",
     "showTitle": false,
     "tableResultSettingsMap": {},
     "title": ""
    }
   },
   "source": [
    "# Gold Tables"
   ]
  },
  {
   "cell_type": "code",
   "execution_count": 0,
   "metadata": {
    "application/vnd.databricks.v1+cell": {
     "cellMetadata": {
      "byteLimit": 2048000,
      "implicitDf": true,
      "rowLimit": 10000
     },
     "inputWidgets": {},
     "nuid": "27dda164-1e74-4c69-ad05-f4b1d287bd0e",
     "showTitle": false,
     "tableResultSettingsMap": {},
     "title": ""
    }
   },
   "outputs": [],
   "source": [
    "-- Aggregates daily book counts for each USA customer (gold layer)\n",
    "CREATE OR REFRESH LIVE TABLE cn_daily_customer_books\n",
    "COMMENT \"Daily number of books per customer in USA\" AS\n",
    "SELECT\n",
    "  customer_id,\n",
    "  f_name,\n",
    "  l_name,\n",
    "  date_trunc(\"DD\", order_timestamp) AS order_date,\n",
    "  sum(quantity) AS books_counts\n",
    "FROM LIVE.orders_cleaned\n",
    "WHERE country = 'USA'\n",
    "GROUP BY customer_id, f_name, l_name, date_trunc(\"DD\", order_timestamp)"
   ]
  }
 ],
 "metadata": {
  "application/vnd.databricks.v1+notebook": {
   "computePreferences": null,
   "dashboards": [],
   "environmentMetadata": {
    "base_environment": "",
    "environment_version": "3"
   },
   "inputWidgetPreferences": null,
   "language": "sql",
   "notebookMetadata": {
    "mostRecentlyExecutedCommandWithImplicitDF": {
     "commandId": 7723296956184914,
     "dataframes": [
      "_sqldf"
     ]
    },
    "pythonIndentUnit": 4
   },
   "notebookName": "5.1 DLT_1",
   "widgets": {}
  },
  "language_info": {
   "name": "sql"
  }
 },
 "nbformat": 4,
 "nbformat_minor": 0
}
